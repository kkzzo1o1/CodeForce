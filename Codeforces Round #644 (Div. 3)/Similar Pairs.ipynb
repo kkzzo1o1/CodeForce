{
 "cells": [
  {
   "cell_type": "markdown",
   "metadata": {},
   "source": [
    "# 兩個數(x,y)為\"similar\"，當x、y有一樣的parity(奇偶性)，或  |x−y|=1。\n",
    "# 在array a中找出是否存在patition裡的數對都是\"similar\"。"
   ]
  },
  {
   "cell_type": "code",
   "execution_count": 3,
   "metadata": {},
   "outputs": [
    {
     "name": "stdout",
     "output_type": "stream",
     "text": [
      "7\n",
      "4\n",
      "11 14 16 12\n",
      "YES\n",
      "2\n",
      "1 8\n",
      "NO\n",
      "4\n",
      "1 1 1 1\n",
      "YES\n",
      "4\n",
      "1 2 5 6\n",
      "YES\n",
      "2\n",
      "12 13\n",
      "YES\n",
      "6\n",
      "1 6 3 10 5 8\n",
      "YES\n",
      "6\n",
      "1 12 3 10 5 8\n",
      "NO\n"
     ]
    }
   ],
   "source": [
    "for _ in range(int(input())):\n",
    "    n = int(input())\n",
    "    a = sorted(list(map(int, input().rstrip().split())))\n",
    "    od = sum(n % 2 for n in a)\n",
    "    if od % 2 == 0:                                 ##如果奇數跟偶數都有偶數個的話，一定有patition裡的數對都是\"similar。\"\n",
    "        print(\"YES\")\n",
    "    elif any(x - y == 1 for y, x in zip(a, a[1:])): ##如果有相鄰的兩個數字差1，就符合|x−y|=1，同時剩下的數字變成奇數跟偶數都有偶數個。\n",
    "        print(\"YES\")\n",
    "    else:\n",
    "        print(\"NO\")\n"
   ]
  },
  {
   "cell_type": "markdown",
   "metadata": {},
   "source": [
    "# https://codeforces.com/contest/1360/problem/C"
   ]
  },
  {
   "cell_type": "code",
   "execution_count": null,
   "metadata": {},
   "outputs": [],
   "source": []
  }
 ],
 "metadata": {
  "kernelspec": {
   "display_name": "Python 3",
   "language": "python",
   "name": "python3"
  },
  "language_info": {
   "codemirror_mode": {
    "name": "ipython",
    "version": 3
   },
   "file_extension": ".py",
   "mimetype": "text/x-python",
   "name": "python",
   "nbconvert_exporter": "python",
   "pygments_lexer": "ipython3",
   "version": "3.7.6"
  }
 },
 "nbformat": 4,
 "nbformat_minor": 4
}
