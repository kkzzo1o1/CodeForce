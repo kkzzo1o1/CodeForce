{
 "cells": [
  {
   "cell_type": "markdown",
   "metadata": {},
   "source": [
    "# Polycarp想去商店買$n$個鏟子，商店有$k$種不同的產品包，每個產品包有0$\\leq$$i$$\\leq$$k$個鏟子的方案提供購買。Polycarp只能選一種方案來購買。\n",
    "# 求Polycarp能夠買最少產品包的數量。"
   ]
  },
  {
   "cell_type": "code",
   "execution_count": 1,
   "metadata": {},
   "outputs": [
    {
     "name": "stdout",
     "output_type": "stream",
     "text": [
      "5\n",
      "8 7\n",
      "2\n",
      "8 1\n",
      "8\n",
      "6 10\n",
      "1\n",
      "999999733 999999732\n",
      "999999733\n",
      "999999733 999999733\n",
      "1\n"
     ]
    }
   ],
   "source": [
    "for _ in range(int(input())):\n",
    "    n, k = map(int,input().split())\n",
    "    i = 1\n",
    "    ans = n\n",
    "    if(k >= n):                              ## 當k >=n時，只有一種情況，就是買一包有n個鏟子的情況。\n",
    "        print('1')\n",
    "    else:\n",
    "        while(i * i <= n):                   ## 減少迴圈次數\n",
    "            if(n % i == 0):                  ## 當n能被i整除時才需要判斷是否為最少產品包數量的買法。\n",
    "                if(i <= k):                  \n",
    "                    ans = min(ans, n // i)\n",
    "                if(n // i <= k):\n",
    "                    ans = min(ans, i)\n",
    "            i += 1\n",
    "        print(ans)"
   ]
  },
  {
   "cell_type": "markdown",
   "metadata": {},
   "source": [
    "# https://codeforces.com/contest/1360/problem/D "
   ]
  },
  {
   "cell_type": "code",
   "execution_count": null,
   "metadata": {},
   "outputs": [],
   "source": []
  }
 ],
 "metadata": {
  "kernelspec": {
   "display_name": "Python 3",
   "language": "python",
   "name": "python3"
  },
  "language_info": {
   "codemirror_mode": {
    "name": "ipython",
    "version": 3
   },
   "file_extension": ".py",
   "mimetype": "text/x-python",
   "name": "python",
   "nbconvert_exporter": "python",
   "pygments_lexer": "ipython3",
   "version": "3.7.6"
  }
 },
 "nbformat": 4,
 "nbformat_minor": 4
}
