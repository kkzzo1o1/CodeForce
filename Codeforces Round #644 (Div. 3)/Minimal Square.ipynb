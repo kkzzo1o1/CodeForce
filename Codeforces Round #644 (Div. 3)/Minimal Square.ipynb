{
 "cells": [
  {
   "cell_type": "markdown",
   "metadata": {},
   "source": [
    "# 給定兩個一樣的矩形，邊長分別為a、b，求最小能同時包含\n",
    "# 兩個矩形的正方形面積，兩個矩形不能重疊或超出正方形。"
   ]
  },
  {
   "cell_type": "code",
   "execution_count": 2,
   "metadata": {},
   "outputs": [
    {
     "name": "stdout",
     "output_type": "stream",
     "text": [
      "8\n",
      "3 2\n",
      "16\n",
      "4 2\n",
      "16\n",
      "1 1\n",
      "4\n",
      "3 1\n",
      "9\n",
      "4 7\n",
      "64\n",
      "1 3\n",
      "9\n",
      "7 4\n",
      "64\n",
      "100 100\n",
      "40000\n"
     ]
    }
   ],
   "source": [
    "for _ in range(int(input())):\n",
    "    a,b=list(map(int,input().split()))\n",
    "    print(max(max(a,b),2*min(a,b))**2)"
   ]
  },
  {
   "cell_type": "markdown",
   "metadata": {},
   "source": [
    "# https://codeforces.com/contest/1360/problem/A"
   ]
  },
  {
   "cell_type": "markdown",
   "metadata": {},
   "source": [
    "## 範例圖片\n",
    "![title](https://espresso.codeforces.com/1e598f03ef46e0e02e952a4624168bc6f2799a22.png)"
   ]
  },
  {
   "cell_type": "markdown",
   "metadata": {},
   "source": [
    "# 想法：兩倍短邊的若小於長邊，能構成最小正方形的邊長為長邊\n",
    "# 兩倍短邊的若大於長邊，能構成最小正方形的邊長為兩倍短邊。\n",
    "# 就以上兩種情況"
   ]
  },
  {
   "cell_type": "code",
   "execution_count": null,
   "metadata": {},
   "outputs": [],
   "source": []
  }
 ],
 "metadata": {
  "kernelspec": {
   "display_name": "Python 3",
   "language": "python",
   "name": "python3"
  },
  "language_info": {
   "codemirror_mode": {
    "name": "ipython",
    "version": 3
   },
   "file_extension": ".py",
   "mimetype": "text/x-python",
   "name": "python",
   "nbconvert_exporter": "python",
   "pygments_lexer": "ipython3",
   "version": "3.7.6"
  }
 },
 "nbformat": 4,
 "nbformat_minor": 4
}
