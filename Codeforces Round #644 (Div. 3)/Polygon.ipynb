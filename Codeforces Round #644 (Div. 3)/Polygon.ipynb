{
 "cells": [
  {
   "cell_type": "markdown",
   "metadata": {},
   "source": [
    "# 砲台會往矩陣發射炮彈，砲彈碰到牆壁或著是砲彈後會停在前一格，每格只能停留一個砲彈，如圖片。\n",
    "# 計算砲彈是否能堆疊成指定的矩陣。"
   ]
  },
  {
   "cell_type": "code",
   "execution_count": 8,
   "metadata": {},
   "outputs": [
    {
     "name": "stdout",
     "output_type": "stream",
     "text": [
      "5\n",
      "4\n",
      "0010\n",
      "0011\n",
      "0000\n",
      "0000\n",
      "YES\n",
      "2\n",
      "10\n",
      "01\n",
      "NO\n",
      "2\n",
      "00\n",
      "00\n",
      "YES\n",
      "4\n",
      "0101\n",
      "1111\n",
      "0101\n",
      "0111\n",
      "YES\n",
      "4\n",
      "0100\n",
      "1110\n",
      "0101\n",
      "0111\n",
      "NO\n"
     ]
    }
   ],
   "source": [
    "for _ in range(int(input())):\n",
    "    n = int(input())\n",
    "    m = [input() for _ in range(n)]\n",
    "    #print(m)\n",
    "    ans = 'YES'\n",
    "    for i in range(n-1):\n",
    "        for j in range(n-1):\n",
    "            if(m[i][j] == '1' and m[i+1][j] == '0' and m[i][j+1] == '0'):\n",
    "                ans = 'NO'\n",
    "                break\n",
    "        if(ans == 'NO'):\n",
    "            break\n",
    "    print(ans)"
   ]
  },
  {
   "cell_type": "markdown",
   "metadata": {},
   "source": [
    "# https://codeforces.com/contest/1360/problem/E"
   ]
  },
  {
   "cell_type": "markdown",
   "metadata": {},
   "source": [
    "![ti](https://espresso.codeforces.com/477656491c995331732d67143a59e43b21075bcc.png)\n",
    "### 1.Shoot the cannon in the row 2     2. Shoot the cannon in the row 2      3. Shoot the cannon in column 3"
   ]
  },
  {
   "cell_type": "markdown",
   "metadata": {},
   "source": [
    "# 如果要堆疊在非角落的格子，那個格子右邊或下邊必須有一格是砲彈，才有可能堆疊起來。"
   ]
  },
  {
   "cell_type": "code",
   "execution_count": null,
   "metadata": {},
   "outputs": [],
   "source": []
  }
 ],
 "metadata": {
  "kernelspec": {
   "display_name": "Python 3",
   "language": "python",
   "name": "python3"
  },
  "language_info": {
   "codemirror_mode": {
    "name": "ipython",
    "version": 3
   },
   "file_extension": ".py",
   "mimetype": "text/x-python",
   "name": "python",
   "nbconvert_exporter": "python",
   "pygments_lexer": "ipython3",
   "version": "3.7.6"
  }
 },
 "nbformat": 4,
 "nbformat_minor": 4
}
