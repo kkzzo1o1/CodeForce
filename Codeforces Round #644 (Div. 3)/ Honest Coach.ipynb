{
 "cells": [
  {
   "cell_type": "markdown",
   "metadata": {},
   "source": [
    "# 教練清楚$i$個體育員的身體素質($S_i$，且$S_i$是整數)，\n",
    "# 要把一列體育員分成兩隊，每隊至少一人，Ａ隊體力最好的減去Ｂ隊體力最差的，要為最小值，即$|max(A)−min(B)|$要最小，印出$|max(A)−min(B)|$的值。"
   ]
  },
  {
   "cell_type": "code",
   "execution_count": 6,
   "metadata": {},
   "outputs": [
    {
     "name": "stdout",
     "output_type": "stream",
     "text": [
      "5\n",
      "5\n",
      "3 1 2 6 4\n",
      "1\n",
      "6\n",
      "2 1 3 2 4 3\n",
      "0\n",
      "4\n",
      "7 9 3 1\n",
      "2\n",
      "2\n",
      "1 1000\n",
      "999\n",
      "3\n",
      "100 150 200\n",
      "50\n"
     ]
    }
   ],
   "source": [
    "for _ in range(int(input())):\n",
    "    n = int(input())\n",
    "    s = list(map(int,input().split()))\n",
    "    s = sorted(s)\n",
    "    print(min(abs(s[i] - s[i+1]) for i in range(n - 1)))"
   ]
  },
  {
   "cell_type": "markdown",
   "metadata": {},
   "source": [
    "# https://codeforces.com/contest/1360/problem/B"
   ]
  },
  {
   "cell_type": "markdown",
   "metadata": {},
   "source": [
    "# 想法：將S以遞增排序，再找相鄰位子相減的最小值，即在i的右邊分成B隊、i的左邊分成Ａ隊。"
   ]
  },
  {
   "cell_type": "code",
   "execution_count": null,
   "metadata": {},
   "outputs": [],
   "source": []
  }
 ],
 "metadata": {
  "kernelspec": {
   "display_name": "Python 3",
   "language": "python",
   "name": "python3"
  },
  "language_info": {
   "codemirror_mode": {
    "name": "ipython",
    "version": 3
   },
   "file_extension": ".py",
   "mimetype": "text/x-python",
   "name": "python",
   "nbconvert_exporter": "python",
   "pygments_lexer": "ipython3",
   "version": "3.7.6"
  }
 },
 "nbformat": 4,
 "nbformat_minor": 4
}
